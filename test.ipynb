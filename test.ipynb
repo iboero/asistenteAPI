{
 "cells": [
  {
   "cell_type": "code",
   "execution_count": 1,
   "metadata": {},
   "outputs": [],
   "source": [
    "\n",
    "from dotenv import load_dotenv\n",
    "from pyprojroot import here\n",
    "import os\n",
    "from uuid import uuid4\n",
    "from langsmith import Client\n",
    "\n",
    "import csv\n",
    "from langchain_core.prompts import ChatPromptTemplate\n",
    "from langchain.prompts import PromptTemplate\n",
    "from langchain_community.vectorstores import Chroma\n",
    "from langchain_openai import OpenAIEmbeddings\n",
    "from langchain_openai import ChatOpenAI\n",
    "\n",
    "\n",
    "\n",
    "from langchain.pydantic_v1 import BaseModel, Field\n",
    "from langchain.tools import BaseTool, StructuredTool, tool\n",
    "from langchain_core.utils.function_calling import convert_to_openai_function\n",
    "\n",
    "import dill as pickle\n",
    "\n",
    "## INICIAR LANGSMITH Y API KEYS\n",
    "dotenv_path = here() / \".env\"\n",
    "load_dotenv(dotenv_path=dotenv_path)\n",
    "\n",
    "\n",
    "client = Client()\n",
    "\n",
    "unique_id = uuid4().hex[0:8]\n",
    "os.environ[\"LANGCHAIN_PROJECT\"] = f\"Migracion - {unique_id}\""
   ]
  },
  {
   "cell_type": "code",
   "execution_count": 2,
   "metadata": {},
   "outputs": [],
   "source": [
    "\n",
    "# LEVANTAR DATOS\n",
    "db_ret = Chroma(persist_directory=\"db_RAG\", embedding_function=OpenAIEmbeddings())\n",
    "db_ret_2 = Chroma(persist_directory=\"db_RAG\", embedding_function=OpenAIEmbeddings())\n",
    "with open('metodos_obj_str.pkl', 'rb') as archivo:\n",
    "    metodos_lista = pickle.load(archivo)\n"
   ]
  },
  {
   "cell_type": "code",
   "execution_count": 8,
   "metadata": {},
   "outputs": [
    {
     "data": {
      "text/plain": [
       "550"
      ]
     },
     "execution_count": 8,
     "metadata": {},
     "output_type": "execute_result"
    }
   ],
   "source": [
    "db_ret.similarity_search(\"Actualizar Telefono\")\n",
    "len(db_ret.get()[\"ids\"])"
   ]
  },
  {
   "cell_type": "code",
   "execution_count": 4,
   "metadata": {},
   "outputs": [],
   "source": [
    "\n",
    "global selected_option\n",
    "selected_option = \"Todos\"\n",
    "\n",
    "class method_decription(BaseModel):\n",
    "    method_description: str = Field(description=\"Description of what the method should do\")\n",
    "\n",
    "class method_name(BaseModel):\n",
    "    method: str = Field(description=\"Method to search information of\")\n",
    "    return_call_example: bool = Field(description=\"Whether to return an example of how to call the method. Set true if this information is asked\",default=False)\n",
    "\n",
    "@tool(\"search_method\", args_schema=method_decription)\n",
    "def search_method(method_description:str):\n",
    "    \"\"\" Returns a list of possible methods given a description. \"\"\"\n",
    "    global selected_option\n",
    "    if selected_option == \"Todos\":\n",
    "        filter={}\n",
    "    else:\n",
    "        filter={\"sistema\":selected_option}\n",
    "\n",
    "    ret_metods = db_ret.similarity_search(method_description,k=5,filter=filter)\n",
    "    ret_metods_names = [met.metadata[\"nombre\"] for met in ret_metods]\n",
    "    ret_metods_sistems = [met.metadata[\"sistema\"] for met in ret_metods]\n",
    "    ret_metodos_obj = []\n",
    "\n",
    "    for met in metodos_lista:\n",
    "        if met.nombre in ret_metods_names:\n",
    "            indices = [indice for indice, elemento in enumerate(ret_metods_names) if elemento == met.nombre]\n",
    "            if met.sistema in [ret_metods_sistems[i] for i in indices]:\n",
    "                ret_metodos_obj.append(met)\n",
    "\n",
    "    resp = \"\"\n",
    "    for metod in ret_metodos_obj:\n",
    "        resp +=  method_info_as_string(metod) + \"\\n\"\n",
    "\n",
    "    return resp\n",
    "\n",
    "@tool(\"search_method_info\", args_schema=method_name)\n",
    "def search_method_info(method:str, return_call_example:bool=False):\n",
    "    \"\"\" Returns information (input-ouput squeema, possible error and calling example) of a method given its name. \"\"\"\n",
    "    global selected_option\n",
    "    if selected_option == \"Todos\":\n",
    "        filter={}\n",
    "    else:\n",
    "        filter={\"sistema\":selected_option}\n",
    "    ret_metods = db_ret_2.similarity_search(method,k=1,filter=filter)\n",
    "    ret_metods_names = [met.metadata[\"nombre\"] for met in ret_metods]\n",
    "    ret_metods_sistems = [met.metadata[\"sistema\"] for met in ret_metods]\n",
    "    ret_metodos_obj = []\n",
    "\n",
    "    for met in metodos_lista:\n",
    "        if met.nombre in ret_metods_names:\n",
    "            indices = [indice for indice, elemento in enumerate(ret_metods_names) if elemento == met.nombre]\n",
    "            if met.sistema in [ret_metods_sistems[i] for i in indices]:\n",
    "                ret_metodos_obj.append(met)\n",
    "\n",
    "    resp = \"\"\n",
    "    for metod in ret_metodos_obj:\n",
    "        resp +=  method_info_as_string(metod,params_info=True, example_info=return_call_example) + \"\\n\"\n",
    "    return resp\n",
    "\n",
    "\n",
    "def method_info_as_string(metod,params_info=False,example_info=False):\n",
    "    strng  = \"\"\n",
    "    strng += f\"Metodo: {metod.nombre} \\n Sistema: {metod.sistema} \\n Descripción: {metod.descripcion} \\n \"\n",
    "    if params_info:\n",
    "        strng  += f\"{metod.entrada} \\n {metod.salida} \\n {metod.error} \\n\"\n",
    "    if example_info:\n",
    "        strng  += f\"{metod.ej_in} \\n {metod.ej_out}\"\n",
    "    return strng\n",
    "\n",
    "tools = [search_method, search_method_info]\n",
    "functions = [convert_to_openai_function(t) for t in tools]\n",
    "\n"
   ]
  },
  {
   "cell_type": "code",
   "execution_count": 5,
   "metadata": {},
   "outputs": [],
   "source": [
    "from langchain.agents import AgentExecutor, create_openai_tools_agent\n",
    "from langchain.prompts import PromptTemplate, MessagesPlaceholder\n",
    "from langchain import hub\n",
    "\n",
    "llm = ChatOpenAI(model=\"gpt-3.5-turbo\",temperature=0.0)\n",
    "\n",
    "chat_template = ChatPromptTemplate.from_messages(\n",
    "    [\n",
    "        (\"system\", \"\"\"Task: You are a helpful assistant. You must answer users question IN SPANISH. To obtain the information needed, use the tools provided, under no circunstances invent information. Be detailed but stay relevant to the question on your answers\"\"\"),\n",
    "        (\"human\", \"{input}\"),\n",
    "        MessagesPlaceholder(variable_name=\"agent_scratchpad\"),\n",
    "    ]\n",
    ")\n",
    "\n",
    "\n",
    "agent = create_openai_tools_agent(llm, tools, chat_template)\n",
    "agent_executor = AgentExecutor(agent=agent, tools=tools, verbose=False)\n",
    "\n",
    "\n"
   ]
  },
  {
   "cell_type": "code",
   "execution_count": 6,
   "metadata": {},
   "outputs": [],
   "source": [
    "res = agent_executor.invoke({\"input\":\"Dame un ejemplo de como invocar al metodo 'ActualizarTelefono' para la persona 82 con numero de telefono 099000555?\"})"
   ]
  },
  {
   "cell_type": "code",
   "execution_count": 7,
   "metadata": {},
   "outputs": [
    {
     "data": {
      "text/plain": [
       "'Para invocar al método \\'ActualizarTelefono\\' para la persona 82 con número de teléfono 099000555, debes seguir el siguiente ejemplo de invocación:\\n\\n```xml\\n<soapenv:Envelope xmlns:soapenv=\"http://schemas.xmlsoap.org/soap/envelope/\" xmlns:bts=\"http://uy.com.dlya.bantotal/BTSOA/\">\\n   <soapenv:Header/>\\n   <soapenv:Body>\\n      <bts:BTPersonas.ActualizarTelefono>\\n         <bts:Btinreq>\\n            <bts:Usuario>MINSTALADOR</bts:Usuario>\\n            <bts:Requerimiento>1</bts:Requerimiento>\\n            <bts:Token>A088577A8D1E89A20E6EF27D</bts:Token>\\n            <bts:Canal>BTDIGITAL</bts:Canal>\\n            <bts:Device>1</bts:Device>\\n         </bts:Btinreq>\\n         <bts:personaUId>82</bts:personaUId>\\n         <bts:numeroTelefono>099000555</bts:numeroTelefono>\\n         <bts:tipoTelefonoId>2</bts:tipoTelefonoId>\\n         <bts:domicilioId>1</bts:domicilioId>\\n         <bts:telefonoId>1</bts:telefonoId>\\n      </bts:BTPersonas.ActualizarTelefono>\\n   </soapenv:Body>\\n</soapenv:Envelope>\\n```\\n\\nEste ejemplo de invocación enviará la solicitud para actualizar el teléfono de la persona con identificador 82 al número 099000555. Recuerda que debes ajustar los valores de usuario, token, canal, y otros parámetros según corresponda en tu sistema.'"
      ]
     },
     "execution_count": 7,
     "metadata": {},
     "output_type": "execute_result"
    }
   ],
   "source": [
    "res[\"output\"]"
   ]
  },
  {
   "cell_type": "code",
   "execution_count": 8,
   "metadata": {},
   "outputs": [
    {
     "name": "stdout",
     "output_type": "stream",
     "text": [
      "Para invocar al método 'ActualizarTelefono' para la persona 82 con número de teléfono 099000555, debes seguir el siguiente ejemplo de invocación:\n",
      "\n",
      "```xml\n",
      "<soapenv:Envelope xmlns:soapenv=\"http://schemas.xmlsoap.org/soap/envelope/\" xmlns:bts=\"http://uy.com.dlya.bantotal/BTSOA/\">\n",
      "   <soapenv:Header/>\n",
      "   <soapenv:Body>\n",
      "      <bts:BTPersonas.ActualizarTelefono>\n",
      "         <bts:Btinreq>\n",
      "            <bts:Usuario>MINSTALADOR</bts:Usuario>\n",
      "            <bts:Requerimiento>1</bts:Requerimiento>\n",
      "            <bts:Token>A088577A8D1E89A20E6EF27D</bts:Token>\n",
      "            <bts:Canal>BTDIGITAL</bts:Canal>\n",
      "            <bts:Device>1</bts:Device>\n",
      "         </bts:Btinreq>\n",
      "         <bts:personaUId>82</bts:personaUId>\n",
      "         <bts:numeroTelefono>099000555</bts:numeroTelefono>\n",
      "         <bts:tipoTelefonoId>2</bts:tipoTelefonoId>\n",
      "         <bts:domicilioId>1</bts:domicilioId>\n",
      "         <bts:telefonoId>1</bts:telefonoId>\n",
      "      </bts:BTPersonas.ActualizarTelefono>\n",
      "   </soapenv:Body>\n",
      "</soapenv:Envelope>\n",
      "```\n",
      "\n",
      "Este ejemplo de invocación enviará la solicitud para actualizar el teléfono de la persona con identificador 82 al número 099000555. Recuerda que debes ajustar los valores de usuario, token, canal, y otros parámetros según corresponda en tu sistema.\n"
     ]
    }
   ],
   "source": [
    "print(res[\"output\"])"
   ]
  },
  {
   "cell_type": "code",
   "execution_count": 68,
   "metadata": {},
   "outputs": [
    {
     "name": "stdout",
     "output_type": "stream",
     "text": [
      "Para invocar al método 'ActualizarTelefono' para la persona 82 con número de teléfono 099000555, debes enviar una solicitud con los siguientes datos de entrada:\n",
      "\n",
      "- personaUId: Identificador único de la persona (en este caso, 82).\n",
      "- numeroTelefono: Número de teléfono a actualizar (en este caso, 099000555).\n",
      "- tipoTelefonoId: Identificador de tipo de teléfono.\n",
      "- domicilioId: Identificador de tipo de domicilio.\n",
      "- telefonoId: Identificador correlativo de teléfono.\n",
      "\n",
      "Aquí tienes un ejemplo de cómo sería la invocación al servicio de Actualizar Teléfono:\n",
      "\n",
      "```xml\n",
      "<soapenv:Envelope xmlns:soapenv=\"http://schemas.xmlsoap.org/soap/envelope/\" xmlns:bts=\"http://uy.com.dlya.bantotal/BTSOA/\">\n",
      "   <soapenv:Header/>\n",
      "   <soapenv:Body>\n",
      "      <bts:BTPersonas.ActualizarTelefono>\n",
      "         <bts:Btinreq>\n",
      "            <bts:Usuario>MINSTALADOR</bts:Usuario>\n",
      "            <bts:Requerimiento>1</bts:Requerimiento>\n",
      "            <bts:Token>A088577A8D1E89A20E6EF27D</bts:Token>\n",
      "            <bts:Canal>BTDIGITAL</bts:Canal>\n",
      "            <bts:Device>1</bts:Device>\n",
      "         </bts:Btinreq>\n",
      "         <bts:personaUId>82</bts:personaUId>\n",
      "         <bts:numeroTelefono>099000555</bts:numeroTelefono>\n",
      "         <bts:tipoTelefonoId>2</bts:tipoTelefonoId>\n",
      "         <bts:domicilioId>1</bts:domicilioId>\n",
      "         <bts:telefonoId>1</bts:telefonoId>\n",
      "      </bts:BTPersonas.ActualizarTelefono>\n",
      "   </soapenv:Body>\n",
      "</soapenv:Envelope>\n",
      "```\n",
      "\n",
      "Esta solicitud actualizará el teléfono de la persona con identificador 82 al número 099000555."
     ]
    }
   ],
   "source": [
    "# agent_executor.invoke({\"input\":\"Dame toda la info disponible del metodo 'ActualizarTelefono'?\"})\n",
    "\n",
    "chunks = []\n",
    "answer = \"\"\n",
    "async for chunk in agent_executor.astream_events({\"input\":\"Dame un ejemplo de como invocar al metodo 'ActualizarTelefono' para la persona 82 con numero de telefono 099000555?\"},version=\"v1\"):\n",
    "    if chunk[\"event\"] == \"on_chat_model_stream\":\n",
    "        content = chunk[\"data\"][\"chunk\"].content\n",
    "        answer += content\n",
    "        print(content,end='')\n"
   ]
  },
  {
   "cell_type": "code",
   "execution_count": 5,
   "metadata": {},
   "outputs": [
    {
     "name": "stdout",
     "output_type": "stream",
     "text": [
      "human: Hola \n",
      "ai: Chau \n",
      "\n"
     ]
    }
   ],
   "source": [
    "from langchain_core.messages import AIMessage, HumanMessage\n",
    "\n",
    "l = [HumanMessage(content=\"Hola\"), AIMessage(content=\"Chau\")]\n",
    "\n",
    "strng = \"\"\n",
    "for m in l:\n",
    "    strng += f\"{m.type}: {m.content} \\n\"\n",
    "print(strng)"
   ]
  },
  {
   "cell_type": "code",
   "execution_count": 50,
   "metadata": {},
   "outputs": [
    {
     "data": {
      "text/plain": [
       "3"
      ]
     },
     "execution_count": 50,
     "metadata": {},
     "output_type": "execute_result"
    }
   ],
   "source": [
    "len(chunks)"
   ]
  }
 ],
 "metadata": {
  "kernelspec": {
   "display_name": "Python 3",
   "language": "python",
   "name": "python3"
  },
  "language_info": {
   "codemirror_mode": {
    "name": "ipython",
    "version": 3
   },
   "file_extension": ".py",
   "mimetype": "text/x-python",
   "name": "python",
   "nbconvert_exporter": "python",
   "pygments_lexer": "ipython3",
   "version": "3.11.7"
  }
 },
 "nbformat": 4,
 "nbformat_minor": 2
}
